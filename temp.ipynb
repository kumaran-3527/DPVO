{
 "cells": [
  {
   "cell_type": "code",
   "execution_count": 1,
   "id": "83e6b4ab",
   "metadata": {},
   "outputs": [],
   "source": [
    "import pickle\n",
    "\n",
    "data = pickle.load(open(\"datasets/TartanAir.pickle\", \"rb\"))"
   ]
  },
  {
   "cell_type": "code",
   "execution_count": 2,
   "id": "0950db4f",
   "metadata": {},
   "outputs": [
    {
     "data": {
      "text/plain": [
       "tuple"
      ]
     },
     "execution_count": 2,
     "metadata": {},
     "output_type": "execute_result"
    }
   ],
   "source": [
    "type(data)"
   ]
  },
  {
   "cell_type": "code",
   "execution_count": 3,
   "id": "02b44aa8",
   "metadata": {},
   "outputs": [
    {
     "data": {
      "text/plain": [
       "369"
      ]
     },
     "execution_count": 3,
     "metadata": {},
     "output_type": "execute_result"
    }
   ],
   "source": [
    "len(data[0])"
   ]
  },
  {
   "cell_type": "code",
   "execution_count": 4,
   "id": "7f84d7b9",
   "metadata": {},
   "outputs": [
    {
     "data": {
      "text/plain": [
       "dict"
      ]
     },
     "execution_count": 4,
     "metadata": {},
     "output_type": "execute_result"
    }
   ],
   "source": [
    "type(data[0])"
   ]
  },
  {
   "cell_type": "code",
   "execution_count": 5,
   "id": "e6e6195d",
   "metadata": {},
   "outputs": [
    {
     "data": {
      "text/plain": [
       "dict_keys(['datasets/TartanAir/abandonedfactory/abandonedfactory/Easy/P000', 'datasets/TartanAir/abandonedfactory/abandonedfactory/Easy/P001', 'datasets/TartanAir/abandonedfactory/abandonedfactory/Easy/P002', 'datasets/TartanAir/abandonedfactory/abandonedfactory/Easy/P004', 'datasets/TartanAir/abandonedfactory/abandonedfactory/Easy/P005', 'datasets/TartanAir/abandonedfactory/abandonedfactory/Easy/P006', 'datasets/TartanAir/abandonedfactory/abandonedfactory/Easy/P008', 'datasets/TartanAir/abandonedfactory/abandonedfactory/Easy/P009', 'datasets/TartanAir/abandonedfactory/abandonedfactory/Easy/P010', 'datasets/TartanAir/abandonedfactory/abandonedfactory/Easy/P011', 'datasets/TartanAir/abandonedfactory/abandonedfactory/Hard/P000', 'datasets/TartanAir/abandonedfactory/abandonedfactory/Hard/P001', 'datasets/TartanAir/abandonedfactory/abandonedfactory/Hard/P002', 'datasets/TartanAir/abandonedfactory/abandonedfactory/Hard/P003', 'datasets/TartanAir/abandonedfactory/abandonedfactory/Hard/P004', 'datasets/TartanAir/abandonedfactory/abandonedfactory/Hard/P005', 'datasets/TartanAir/abandonedfactory/abandonedfactory/Hard/P006', 'datasets/TartanAir/abandonedfactory/abandonedfactory/Hard/P007', 'datasets/TartanAir/abandonedfactory/abandonedfactory/Hard/P008', 'datasets/TartanAir/abandonedfactory/abandonedfactory/Hard/P009', 'datasets/TartanAir/abandonedfactory/abandonedfactory/Hard/P010', 'datasets/TartanAir/abandonedfactory/abandonedfactory/Hard/P011', 'datasets/TartanAir/abandonedfactory_night/abandonedfactory_night/Easy/P001', 'datasets/TartanAir/abandonedfactory_night/abandonedfactory_night/Easy/P002', 'datasets/TartanAir/abandonedfactory_night/abandonedfactory_night/Easy/P003', 'datasets/TartanAir/abandonedfactory_night/abandonedfactory_night/Easy/P004', 'datasets/TartanAir/abandonedfactory_night/abandonedfactory_night/Easy/P005', 'datasets/TartanAir/abandonedfactory_night/abandonedfactory_night/Easy/P006', 'datasets/TartanAir/abandonedfactory_night/abandonedfactory_night/Easy/P007', 'datasets/TartanAir/abandonedfactory_night/abandonedfactory_night/Easy/P008', 'datasets/TartanAir/abandonedfactory_night/abandonedfactory_night/Easy/P009', 'datasets/TartanAir/abandonedfactory_night/abandonedfactory_night/Easy/P010', 'datasets/TartanAir/abandonedfactory_night/abandonedfactory_night/Easy/P011', 'datasets/TartanAir/abandonedfactory_night/abandonedfactory_night/Easy/P012', 'datasets/TartanAir/abandonedfactory_night/abandonedfactory_night/Easy/P013', 'datasets/TartanAir/abandonedfactory_night/abandonedfactory_night/Hard/P000', 'datasets/TartanAir/abandonedfactory_night/abandonedfactory_night/Hard/P001', 'datasets/TartanAir/abandonedfactory_night/abandonedfactory_night/Hard/P002', 'datasets/TartanAir/abandonedfactory_night/abandonedfactory_night/Hard/P003', 'datasets/TartanAir/abandonedfactory_night/abandonedfactory_night/Hard/P005', 'datasets/TartanAir/abandonedfactory_night/abandonedfactory_night/Hard/P006', 'datasets/TartanAir/abandonedfactory_night/abandonedfactory_night/Hard/P007', 'datasets/TartanAir/abandonedfactory_night/abandonedfactory_night/Hard/P008', 'datasets/TartanAir/abandonedfactory_night/abandonedfactory_night/Hard/P009', 'datasets/TartanAir/abandonedfactory_night/abandonedfactory_night/Hard/P010', 'datasets/TartanAir/abandonedfactory_night/abandonedfactory_night/Hard/P011', 'datasets/TartanAir/abandonedfactory_night/abandonedfactory_night/Hard/P012', 'datasets/TartanAir/abandonedfactory_night/abandonedfactory_night/Hard/P013', 'datasets/TartanAir/abandonedfactory_night/abandonedfactory_night/Hard/P014', 'datasets/TartanAir/amusement/amusement/Easy/P001', 'datasets/TartanAir/amusement/amusement/Easy/P002', 'datasets/TartanAir/amusement/amusement/Easy/P003', 'datasets/TartanAir/amusement/amusement/Easy/P004', 'datasets/TartanAir/amusement/amusement/Easy/P006', 'datasets/TartanAir/amusement/amusement/Easy/P007', 'datasets/TartanAir/amusement/amusement/Easy/P008', 'datasets/TartanAir/amusement/amusement/Hard/P000', 'datasets/TartanAir/amusement/amusement/Hard/P001', 'datasets/TartanAir/amusement/amusement/Hard/P002', 'datasets/TartanAir/amusement/amusement/Hard/P003', 'datasets/TartanAir/amusement/amusement/Hard/P004', 'datasets/TartanAir/amusement/amusement/Hard/P005', 'datasets/TartanAir/amusement/amusement/Hard/P006', 'datasets/TartanAir/amusement/amusement/Hard/P007', 'datasets/TartanAir/carwelding/carwelding/Easy/P001', 'datasets/TartanAir/carwelding/carwelding/Easy/P002', 'datasets/TartanAir/carwelding/carwelding/Easy/P004', 'datasets/TartanAir/carwelding/carwelding/Easy/P005', 'datasets/TartanAir/carwelding/carwelding/Easy/P006', 'datasets/TartanAir/carwelding/carwelding/Easy/P007', 'datasets/TartanAir/carwelding/carwelding/Hard/P000', 'datasets/TartanAir/carwelding/carwelding/Hard/P001', 'datasets/TartanAir/carwelding/carwelding/Hard/P002', 'datasets/TartanAir/carwelding/carwelding/Hard/P003', 'datasets/TartanAir/endofworld/endofworld/Easy/P000', 'datasets/TartanAir/endofworld/endofworld/Easy/P001', 'datasets/TartanAir/endofworld/endofworld/Easy/P002', 'datasets/TartanAir/endofworld/endofworld/Easy/P003', 'datasets/TartanAir/endofworld/endofworld/Easy/P004', 'datasets/TartanAir/endofworld/endofworld/Easy/P005', 'datasets/TartanAir/endofworld/endofworld/Easy/P006', 'datasets/TartanAir/endofworld/endofworld/Easy/P007', 'datasets/TartanAir/endofworld/endofworld/Easy/P008', 'datasets/TartanAir/endofworld/endofworld/Easy/P009', 'datasets/TartanAir/endofworld/endofworld/Hard/P000', 'datasets/TartanAir/endofworld/endofworld/Hard/P001', 'datasets/TartanAir/endofworld/endofworld/Hard/P002', 'datasets/TartanAir/endofworld/endofworld/Hard/P005', 'datasets/TartanAir/endofworld/endofworld/Hard/P006', 'datasets/TartanAir/gascola/gascola/Easy/P001', 'datasets/TartanAir/gascola/gascola/Easy/P003', 'datasets/TartanAir/gascola/gascola/Easy/P004', 'datasets/TartanAir/gascola/gascola/Easy/P005', 'datasets/TartanAir/gascola/gascola/Easy/P006', 'datasets/TartanAir/gascola/gascola/Easy/P007', 'datasets/TartanAir/gascola/gascola/Easy/P008', 'datasets/TartanAir/gascola/gascola/Hard/P000', 'datasets/TartanAir/gascola/gascola/Hard/P001', 'datasets/TartanAir/gascola/gascola/Hard/P002', 'datasets/TartanAir/gascola/gascola/Hard/P003', 'datasets/TartanAir/gascola/gascola/Hard/P004', 'datasets/TartanAir/gascola/gascola/Hard/P005', 'datasets/TartanAir/gascola/gascola/Hard/P006', 'datasets/TartanAir/gascola/gascola/Hard/P007', 'datasets/TartanAir/gascola/gascola/Hard/P008', 'datasets/TartanAir/gascola/gascola/Hard/P009', 'datasets/TartanAir/hospital/hospital/Easy/P000', 'datasets/TartanAir/hospital/hospital/Easy/P001', 'datasets/TartanAir/hospital/hospital/Easy/P002', 'datasets/TartanAir/hospital/hospital/Easy/P003', 'datasets/TartanAir/hospital/hospital/Easy/P004', 'datasets/TartanAir/hospital/hospital/Easy/P005', 'datasets/TartanAir/hospital/hospital/Easy/P006', 'datasets/TartanAir/hospital/hospital/Easy/P007', 'datasets/TartanAir/hospital/hospital/Easy/P008', 'datasets/TartanAir/hospital/hospital/Easy/P009', 'datasets/TartanAir/hospital/hospital/Easy/P010', 'datasets/TartanAir/hospital/hospital/Easy/P011', 'datasets/TartanAir/hospital/hospital/Easy/P012', 'datasets/TartanAir/hospital/hospital/Easy/P013', 'datasets/TartanAir/hospital/hospital/Easy/P014', 'datasets/TartanAir/hospital/hospital/Easy/P015', 'datasets/TartanAir/hospital/hospital/Easy/P016', 'datasets/TartanAir/hospital/hospital/Easy/P017', 'datasets/TartanAir/hospital/hospital/Easy/P018', 'datasets/TartanAir/hospital/hospital/Easy/P019', 'datasets/TartanAir/hospital/hospital/Easy/P020', 'datasets/TartanAir/hospital/hospital/Easy/P021', 'datasets/TartanAir/hospital/hospital/Easy/P022', 'datasets/TartanAir/hospital/hospital/Easy/P023', 'datasets/TartanAir/hospital/hospital/Easy/P024', 'datasets/TartanAir/hospital/hospital/Easy/P025', 'datasets/TartanAir/hospital/hospital/Easy/P026', 'datasets/TartanAir/hospital/hospital/Easy/P027', 'datasets/TartanAir/hospital/hospital/Easy/P028', 'datasets/TartanAir/hospital/hospital/Easy/P029', 'datasets/TartanAir/hospital/hospital/Easy/P030', 'datasets/TartanAir/hospital/hospital/Easy/P031', 'datasets/TartanAir/hospital/hospital/Easy/P032', 'datasets/TartanAir/hospital/hospital/Easy/P033', 'datasets/TartanAir/hospital/hospital/Easy/P034', 'datasets/TartanAir/hospital/hospital/Easy/P035', 'datasets/TartanAir/hospital/hospital/Easy/P036', 'datasets/TartanAir/hospital/hospital/Hard/P037', 'datasets/TartanAir/hospital/hospital/Hard/P038', 'datasets/TartanAir/hospital/hospital/Hard/P039', 'datasets/TartanAir/hospital/hospital/Hard/P040', 'datasets/TartanAir/hospital/hospital/Hard/P041', 'datasets/TartanAir/hospital/hospital/Hard/P042', 'datasets/TartanAir/hospital/hospital/Hard/P043', 'datasets/TartanAir/hospital/hospital/Hard/P044', 'datasets/TartanAir/hospital/hospital/Hard/P045', 'datasets/TartanAir/hospital/hospital/Hard/P046', 'datasets/TartanAir/hospital/hospital/Hard/P047', 'datasets/TartanAir/hospital/hospital/Hard/P048', 'datasets/TartanAir/hospital/hospital/Hard/P049', 'datasets/TartanAir/japanesealley/japanesealley/Easy/P001', 'datasets/TartanAir/japanesealley/japanesealley/Easy/P002', 'datasets/TartanAir/japanesealley/japanesealley/Easy/P003', 'datasets/TartanAir/japanesealley/japanesealley/Easy/P004', 'datasets/TartanAir/japanesealley/japanesealley/Easy/P005', 'datasets/TartanAir/japanesealley/japanesealley/Easy/P007', 'datasets/TartanAir/japanesealley/japanesealley/Hard/P000', 'datasets/TartanAir/japanesealley/japanesealley/Hard/P001', 'datasets/TartanAir/japanesealley/japanesealley/Hard/P002', 'datasets/TartanAir/japanesealley/japanesealley/Hard/P003', 'datasets/TartanAir/japanesealley/japanesealley/Hard/P004', 'datasets/TartanAir/japanesealley/japanesealley/Hard/P005', 'datasets/TartanAir/neighborhood/neighborhood/Easy/P000', 'datasets/TartanAir/neighborhood/neighborhood/Easy/P001', 'datasets/TartanAir/neighborhood/neighborhood/Easy/P002', 'datasets/TartanAir/neighborhood/neighborhood/Easy/P003', 'datasets/TartanAir/neighborhood/neighborhood/Easy/P004', 'datasets/TartanAir/neighborhood/neighborhood/Easy/P005', 'datasets/TartanAir/neighborhood/neighborhood/Easy/P007', 'datasets/TartanAir/neighborhood/neighborhood/Easy/P008', 'datasets/TartanAir/neighborhood/neighborhood/Easy/P009', 'datasets/TartanAir/neighborhood/neighborhood/Easy/P010', 'datasets/TartanAir/neighborhood/neighborhood/Easy/P012', 'datasets/TartanAir/neighborhood/neighborhood/Easy/P013', 'datasets/TartanAir/neighborhood/neighborhood/Easy/P014', 'datasets/TartanAir/neighborhood/neighborhood/Easy/P015', 'datasets/TartanAir/neighborhood/neighborhood/Easy/P016', 'datasets/TartanAir/neighborhood/neighborhood/Easy/P017', 'datasets/TartanAir/neighborhood/neighborhood/Easy/P018', 'datasets/TartanAir/neighborhood/neighborhood/Easy/P019', 'datasets/TartanAir/neighborhood/neighborhood/Easy/P020', 'datasets/TartanAir/neighborhood/neighborhood/Easy/P021', 'datasets/TartanAir/neighborhood/neighborhood/Hard/P000', 'datasets/TartanAir/neighborhood/neighborhood/Hard/P001', 'datasets/TartanAir/neighborhood/neighborhood/Hard/P002', 'datasets/TartanAir/neighborhood/neighborhood/Hard/P003', 'datasets/TartanAir/neighborhood/neighborhood/Hard/P004', 'datasets/TartanAir/neighborhood/neighborhood/Hard/P005', 'datasets/TartanAir/neighborhood/neighborhood/Hard/P006', 'datasets/TartanAir/neighborhood/neighborhood/Hard/P007', 'datasets/TartanAir/neighborhood/neighborhood/Hard/P008', 'datasets/TartanAir/neighborhood/neighborhood/Hard/P009', 'datasets/TartanAir/neighborhood/neighborhood/Hard/P010', 'datasets/TartanAir/neighborhood/neighborhood/Hard/P011', 'datasets/TartanAir/neighborhood/neighborhood/Hard/P012', 'datasets/TartanAir/neighborhood/neighborhood/Hard/P013', 'datasets/TartanAir/neighborhood/neighborhood/Hard/P014', 'datasets/TartanAir/neighborhood/neighborhood/Hard/P015', 'datasets/TartanAir/neighborhood/neighborhood/Hard/P016', 'datasets/TartanAir/neighborhood/neighborhood/Hard/P017', 'datasets/TartanAir/ocean/ocean/Easy/P000', 'datasets/TartanAir/ocean/ocean/Easy/P001', 'datasets/TartanAir/ocean/ocean/Easy/P002', 'datasets/TartanAir/ocean/ocean/Easy/P004', 'datasets/TartanAir/ocean/ocean/Easy/P005', 'datasets/TartanAir/ocean/ocean/Easy/P006', 'datasets/TartanAir/ocean/ocean/Easy/P008', 'datasets/TartanAir/ocean/ocean/Easy/P009', 'datasets/TartanAir/ocean/ocean/Easy/P010', 'datasets/TartanAir/ocean/ocean/Easy/P011', 'datasets/TartanAir/ocean/ocean/Easy/P012', 'datasets/TartanAir/ocean/ocean/Easy/P013', 'datasets/TartanAir/ocean/ocean/Hard/P000', 'datasets/TartanAir/ocean/ocean/Hard/P001', 'datasets/TartanAir/ocean/ocean/Hard/P002', 'datasets/TartanAir/ocean/ocean/Hard/P003', 'datasets/TartanAir/ocean/ocean/Hard/P004', 'datasets/TartanAir/ocean/ocean/Hard/P005', 'datasets/TartanAir/ocean/ocean/Hard/P006', 'datasets/TartanAir/ocean/ocean/Hard/P007', 'datasets/TartanAir/ocean/ocean/Hard/P008', 'datasets/TartanAir/ocean/ocean/Hard/P009', 'datasets/TartanAir/office/office/Easy/P000', 'datasets/TartanAir/office/office/Easy/P001', 'datasets/TartanAir/office/office/Easy/P002', 'datasets/TartanAir/office/office/Easy/P003', 'datasets/TartanAir/office/office/Easy/P004', 'datasets/TartanAir/office/office/Easy/P005', 'datasets/TartanAir/office/office/Easy/P006', 'datasets/TartanAir/office/office/Hard/P000', 'datasets/TartanAir/office/office/Hard/P001', 'datasets/TartanAir/office/office/Hard/P002', 'datasets/TartanAir/office/office/Hard/P003', 'datasets/TartanAir/office/office/Hard/P004', 'datasets/TartanAir/office/office/Hard/P005', 'datasets/TartanAir/office/office/Hard/P006', 'datasets/TartanAir/office/office/Hard/P007', 'datasets/TartanAir/office2/office2/Easy/P000', 'datasets/TartanAir/office2/office2/Easy/P003', 'datasets/TartanAir/office2/office2/Easy/P004', 'datasets/TartanAir/office2/office2/Easy/P005', 'datasets/TartanAir/office2/office2/Easy/P006', 'datasets/TartanAir/office2/office2/Easy/P007', 'datasets/TartanAir/office2/office2/Easy/P008', 'datasets/TartanAir/office2/office2/Easy/P009', 'datasets/TartanAir/office2/office2/Easy/P010', 'datasets/TartanAir/office2/office2/Easy/P011', 'datasets/TartanAir/office2/office2/Hard/P000', 'datasets/TartanAir/office2/office2/Hard/P001', 'datasets/TartanAir/office2/office2/Hard/P002', 'datasets/TartanAir/office2/office2/Hard/P003', 'datasets/TartanAir/office2/office2/Hard/P004', 'datasets/TartanAir/office2/office2/Hard/P005', 'datasets/TartanAir/office2/office2/Hard/P006', 'datasets/TartanAir/office2/office2/Hard/P007', 'datasets/TartanAir/office2/office2/Hard/P008', 'datasets/TartanAir/office2/office2/Hard/P009', 'datasets/TartanAir/office2/office2/Hard/P010', 'datasets/TartanAir/oldtown/oldtown/Easy/P000', 'datasets/TartanAir/oldtown/oldtown/Easy/P001', 'datasets/TartanAir/oldtown/oldtown/Easy/P002', 'datasets/TartanAir/oldtown/oldtown/Easy/P004', 'datasets/TartanAir/oldtown/oldtown/Easy/P005', 'datasets/TartanAir/oldtown/oldtown/Easy/P007', 'datasets/TartanAir/oldtown/oldtown/Hard/P000', 'datasets/TartanAir/oldtown/oldtown/Hard/P001', 'datasets/TartanAir/oldtown/oldtown/Hard/P002', 'datasets/TartanAir/oldtown/oldtown/Hard/P003', 'datasets/TartanAir/oldtown/oldtown/Hard/P004', 'datasets/TartanAir/oldtown/oldtown/Hard/P005', 'datasets/TartanAir/oldtown/oldtown/Hard/P006', 'datasets/TartanAir/oldtown/oldtown/Hard/P007', 'datasets/TartanAir/oldtown/oldtown/Hard/P008', 'datasets/TartanAir/seasidetown/seasidetown/Easy/P000', 'datasets/TartanAir/seasidetown/seasidetown/Easy/P001', 'datasets/TartanAir/seasidetown/seasidetown/Easy/P002', 'datasets/TartanAir/seasidetown/seasidetown/Easy/P003', 'datasets/TartanAir/seasidetown/seasidetown/Easy/P004', 'datasets/TartanAir/seasidetown/seasidetown/Easy/P005', 'datasets/TartanAir/seasidetown/seasidetown/Easy/P006', 'datasets/TartanAir/seasidetown/seasidetown/Easy/P007', 'datasets/TartanAir/seasidetown/seasidetown/Easy/P008', 'datasets/TartanAir/seasidetown/seasidetown/Easy/P009', 'datasets/TartanAir/seasidetown/seasidetown/Hard/P000', 'datasets/TartanAir/seasidetown/seasidetown/Hard/P001', 'datasets/TartanAir/seasidetown/seasidetown/Hard/P002', 'datasets/TartanAir/seasidetown/seasidetown/Hard/P003', 'datasets/TartanAir/seasidetown/seasidetown/Hard/P004', 'datasets/TartanAir/seasonsforest/seasonsforest/Easy/P001', 'datasets/TartanAir/seasonsforest/seasonsforest/Easy/P002', 'datasets/TartanAir/seasonsforest/seasonsforest/Easy/P003', 'datasets/TartanAir/seasonsforest/seasonsforest/Easy/P004', 'datasets/TartanAir/seasonsforest/seasonsforest/Easy/P005', 'datasets/TartanAir/seasonsforest/seasonsforest/Easy/P007', 'datasets/TartanAir/seasonsforest/seasonsforest/Easy/P008', 'datasets/TartanAir/seasonsforest/seasonsforest/Easy/P009', 'datasets/TartanAir/seasonsforest/seasonsforest/Easy/P010', 'datasets/TartanAir/seasonsforest/seasonsforest/Easy/P011', 'datasets/TartanAir/seasonsforest/seasonsforest/Hard/P001', 'datasets/TartanAir/seasonsforest/seasonsforest/Hard/P002', 'datasets/TartanAir/seasonsforest/seasonsforest/Hard/P004', 'datasets/TartanAir/seasonsforest/seasonsforest/Hard/P005', 'datasets/TartanAir/seasonsforest/seasonsforest/Hard/P006', 'datasets/TartanAir/seasonsforest_winter/seasonsforest_winter/Easy/P000', 'datasets/TartanAir/seasonsforest_winter/seasonsforest_winter/Easy/P001', 'datasets/TartanAir/seasonsforest_winter/seasonsforest_winter/Easy/P002', 'datasets/TartanAir/seasonsforest_winter/seasonsforest_winter/Easy/P003', 'datasets/TartanAir/seasonsforest_winter/seasonsforest_winter/Easy/P004', 'datasets/TartanAir/seasonsforest_winter/seasonsforest_winter/Easy/P005', 'datasets/TartanAir/seasonsforest_winter/seasonsforest_winter/Easy/P006', 'datasets/TartanAir/seasonsforest_winter/seasonsforest_winter/Easy/P007', 'datasets/TartanAir/seasonsforest_winter/seasonsforest_winter/Easy/P008', 'datasets/TartanAir/seasonsforest_winter/seasonsforest_winter/Easy/P009', 'datasets/TartanAir/seasonsforest_winter/seasonsforest_winter/Hard/P010', 'datasets/TartanAir/seasonsforest_winter/seasonsforest_winter/Hard/P011', 'datasets/TartanAir/seasonsforest_winter/seasonsforest_winter/Hard/P012', 'datasets/TartanAir/seasonsforest_winter/seasonsforest_winter/Hard/P013', 'datasets/TartanAir/seasonsforest_winter/seasonsforest_winter/Hard/P014', 'datasets/TartanAir/seasonsforest_winter/seasonsforest_winter/Hard/P015', 'datasets/TartanAir/seasonsforest_winter/seasonsforest_winter/Hard/P016', 'datasets/TartanAir/seasonsforest_winter/seasonsforest_winter/Hard/P017', 'datasets/TartanAir/seasonsforest_winter/seasonsforest_winter/Hard/P018', 'datasets/TartanAir/soulcity/soulcity/Easy/P000', 'datasets/TartanAir/soulcity/soulcity/Easy/P001', 'datasets/TartanAir/soulcity/soulcity/Easy/P002', 'datasets/TartanAir/soulcity/soulcity/Easy/P003', 'datasets/TartanAir/soulcity/soulcity/Easy/P004', 'datasets/TartanAir/soulcity/soulcity/Easy/P005', 'datasets/TartanAir/soulcity/soulcity/Easy/P006', 'datasets/TartanAir/soulcity/soulcity/Easy/P007', 'datasets/TartanAir/soulcity/soulcity/Easy/P008', 'datasets/TartanAir/soulcity/soulcity/Easy/P009', 'datasets/TartanAir/soulcity/soulcity/Easy/P010', 'datasets/TartanAir/soulcity/soulcity/Easy/P011', 'datasets/TartanAir/soulcity/soulcity/Easy/P012', 'datasets/TartanAir/soulcity/soulcity/Hard/P000', 'datasets/TartanAir/soulcity/soulcity/Hard/P001', 'datasets/TartanAir/soulcity/soulcity/Hard/P002', 'datasets/TartanAir/soulcity/soulcity/Hard/P003', 'datasets/TartanAir/soulcity/soulcity/Hard/P004', 'datasets/TartanAir/soulcity/soulcity/Hard/P005', 'datasets/TartanAir/soulcity/soulcity/Hard/P008', 'datasets/TartanAir/soulcity/soulcity/Hard/P009', 'datasets/TartanAir/westerndesert/westerndesert/Easy/P001', 'datasets/TartanAir/westerndesert/westerndesert/Easy/P002', 'datasets/TartanAir/westerndesert/westerndesert/Easy/P004', 'datasets/TartanAir/westerndesert/westerndesert/Easy/P005', 'datasets/TartanAir/westerndesert/westerndesert/Easy/P006', 'datasets/TartanAir/westerndesert/westerndesert/Easy/P007', 'datasets/TartanAir/westerndesert/westerndesert/Easy/P008', 'datasets/TartanAir/westerndesert/westerndesert/Easy/P009', 'datasets/TartanAir/westerndesert/westerndesert/Easy/P010', 'datasets/TartanAir/westerndesert/westerndesert/Easy/P011', 'datasets/TartanAir/westerndesert/westerndesert/Easy/P012', 'datasets/TartanAir/westerndesert/westerndesert/Easy/P013', 'datasets/TartanAir/westerndesert/westerndesert/Hard/P000', 'datasets/TartanAir/westerndesert/westerndesert/Hard/P001', 'datasets/TartanAir/westerndesert/westerndesert/Hard/P002', 'datasets/TartanAir/westerndesert/westerndesert/Hard/P003', 'datasets/TartanAir/westerndesert/westerndesert/Hard/P004', 'datasets/TartanAir/westerndesert/westerndesert/Hard/P005', 'datasets/TartanAir/westerndesert/westerndesert/Hard/P006', 'datasets/TartanAir/westerndesert/westerndesert/Hard/P007'])"
      ]
     },
     "execution_count": 5,
     "metadata": {},
     "output_type": "execute_result"
    }
   ],
   "source": [
    "data[0].keys()"
   ]
  },
  {
   "cell_type": "code",
   "execution_count": 6,
   "id": "9fc19b77",
   "metadata": {},
   "outputs": [
    {
     "data": {
      "text/plain": [
       "dict_keys(['images', 'depths', 'poses', 'intrinsics', 'graph'])"
      ]
     },
     "execution_count": 6,
     "metadata": {},
     "output_type": "execute_result"
    }
   ],
   "source": [
    "data[0]['datasets/TartanAir/abandonedfactory/abandonedfactory/Easy/P000'].keys()"
   ]
  },
  {
   "cell_type": "code",
   "execution_count": 7,
   "id": "f4071b1e",
   "metadata": {},
   "outputs": [
    {
     "data": {
      "text/plain": [
       "(array([   0,    1,    2,    3,    4,    5,    6,    7,    8,    9,   10,\n",
       "         437,  438,  439,  440,  441,  442,  443,  444,  445,  446, 1275,\n",
       "        1276, 1277, 1278, 1279, 1280, 1281, 1282, 1283, 1284, 1285, 1286,\n",
       "        1287, 1288, 1289, 1290, 1291, 1292, 2066, 2095, 2096, 2097, 2098,\n",
       "        2099, 2100, 2101, 2102, 2103, 2104, 2105, 2106, 2107, 2108, 2109,\n",
       "        2110, 2111, 2112, 2113, 2114, 2115, 2116, 2117, 2118, 2119, 2120,\n",
       "        2121, 2122, 2123, 2124, 2125, 2126, 2127, 2128, 2129, 2130, 2131,\n",
       "        2132, 2133, 2171, 2172, 2173, 2174, 2175]),\n",
       " array([ 80.08349 ,  23.484367,  46.890213,  70.28729 ,  93.927086,\n",
       "        118.08013 , 142.91193 , 168.63982 , 195.62698 , 224.4983  ,\n",
       "        255.49583 , 255.1696  , 254.35486 , 252.25322 , 250.47667 ,\n",
       "        249.72905 , 250.51253 , 251.03764 , 253.11055 , 253.32935 ,\n",
       "        255.4141  , 252.31921 , 239.70863 , 230.68764 , 219.71527 ,\n",
       "        211.86824 , 205.61111 , 202.39294 , 200.79639 , 199.4081  ,\n",
       "        199.30669 , 198.71388 , 198.19989 , 198.00334 , 198.11569 ,\n",
       "        198.67978 , 198.46533 , 199.39856 , 198.92024 , 255.84189 ,\n",
       "        227.61917 , 227.24915 , 226.54779 , 226.20805 , 225.86328 ,\n",
       "        225.52588 , 224.92215 , 223.72844 , 223.33498 , 222.04663 ,\n",
       "        221.40453 , 220.89212 , 218.49355 , 217.90413 , 217.71156 ,\n",
       "        217.07985 , 215.392   , 214.3344  , 213.89424 , 212.02899 ,\n",
       "        213.16934 , 213.25029 , 214.81209 , 212.61237 , 213.04575 ,\n",
       "        210.22112 , 211.6251  , 210.87323 , 212.91235 , 213.71999 ,\n",
       "        217.02487 , 221.04242 , 226.44093 , 228.90106 , 233.1937  ,\n",
       "        236.58543 , 241.10313 , 248.49117 , 254.78004 , 242.89058 ,\n",
       "        225.91512 , 212.9026  , 204.17639 , 198.99129 ], dtype=float32))"
      ]
     },
     "execution_count": 7,
     "metadata": {},
     "output_type": "execute_result"
    }
   ],
   "source": [
    "data[0]['datasets/TartanAir/abandonedfactory/abandonedfactory/Easy/P000']['graph'][0]"
   ]
  },
  {
   "cell_type": "code",
   "execution_count": null,
   "id": "e2937081",
   "metadata": {},
   "outputs": [],
   "source": []
  }
 ],
 "metadata": {
  "kernelspec": {
   "display_name": "dpvo118",
   "language": "python",
   "name": "python3"
  },
  "language_info": {
   "codemirror_mode": {
    "name": "ipython",
    "version": 3
   },
   "file_extension": ".py",
   "mimetype": "text/x-python",
   "name": "python",
   "nbconvert_exporter": "python",
   "pygments_lexer": "ipython3",
   "version": "3.10.18"
  }
 },
 "nbformat": 4,
 "nbformat_minor": 5
}
